{
 "cells": [
  {
   "cell_type": "code",
   "execution_count": null,
   "metadata": {},
   "outputs": [],
   "source": [
    "import requests\n",
    "from bs4 import BeautifulSoup\n",
    "import pandas as pd\n",
    "import pickle"
   ]
  },
  {
   "cell_type": "code",
   "execution_count": null,
   "metadata": {},
   "outputs": [],
   "source": [
    "DATASET_PATH = f\"../../Datasets/amazon-products-dataset/Amazon-Products.csv\""
   ]
  },
  {
   "cell_type": "code",
   "execution_count": null,
   "metadata": {},
   "outputs": [],
   "source": [
    "class AmazonProductExtractor:\n",
    "    def __init__(self, url):\n",
    "        self.url = url\n",
    "        self.soup = self._get_soup()\n",
    "\n",
    "    def _get_soup(self):\n",
    "        headers = {\n",
    "            \"User-Agent\": \"Mozilla/5.0 (Windows NT 10.0; Win64; x64) AppleWebKit/537.36 (KHTML, like Gecko) Chrome/114.0.0.0 Safari/537.36\",\n",
    "            \"Accept-Language\": \"en-US,en;q=0.9\",\n",
    "        }\n",
    "        response = requests.get(self.url, headers=headers)\n",
    "        if response.status_code == 200:\n",
    "            return BeautifulSoup(response.text, \"html.parser\")\n",
    "        else:\n",
    "            raise Exception(\n",
    "                f\"Failed to fetch page, status code: {response.status_code}\"\n",
    "            )\n",
    "\n",
    "    def extract_description(self):\n",
    "        desc_tag = self.soup.find(\"div\", id=\"productDescription\")\n",
    "        desc_tag = desc_tag.get_text(strip=True) if desc_tag else None\n",
    "        feature_tag = self.soup.find(\"div\", id=\"feature-bullets\")\n",
    "        feature_tag = feature_tag.get_text(strip=True) if feature_tag else None\n",
    "        overview_tag = self.soup.find(\"div\", id=\"productOverview_feature_div\")\n",
    "        overview_tag = overview_tag.get_text(strip=True) if overview_tag else None\n",
    "        tech_spec_tag = self.soup.find(\"div\", id=\"productDetails_techSpec_section_1\")\n",
    "        tech_spec_tag = tech_spec_tag.get_text(strip=True) if tech_spec_tag else None\n",
    "        return [str(t) for t in [desc_tag, feature_tag, overview_tag, tech_spec_tag]]"
   ]
  },
  {
   "cell_type": "code",
   "execution_count": null,
   "metadata": {},
   "outputs": [],
   "source": [
    "df = pd.read_csv(DATASET_PATH)\n",
    "df.head()\n",
    "new_df = pd.DataFrame(columns=[\"Unnamed: 0\",\"name\",\"details\"])\n",
    "new_df[\"Unnamed: 0\"] = df[\"Unnamed: 0\"]\n",
    "new_df[\"name\"] = df[\"name\"]\n",
    "new_df.head()"
   ]
  },
  {
   "cell_type": "code",
   "execution_count": null,
   "metadata": {},
   "outputs": [],
   "source": [
    "def get_description(row):\n",
    "    url = row[\"link\"]\n",
    "    name = row[\"name\"]\n",
    "    try:\n",
    "        extractor = AmazonProductExtractor(url)\n",
    "        description = extractor.extract_description()\n",
    "        print(f\"Description of {name}: {description}\")\n",
    "        return description\n",
    "    except Exception as e:\n",
    "        print(f\"Failed to extract description for {name}: {e}\")\n",
    "        return [None, None, None, None]\n",
    "    \n",
    "\n",
    "new_df[\"details\"] = df.apply(get_description, axis=1)\n",
    "new_df.head()"
   ]
  },
  {
   "cell_type": "code",
   "execution_count": null,
   "metadata": {},
   "outputs": [],
   "source": [
    "new_df.to_pickle(\"Amazon-Products-Details.pkl\", index=False)"
   ]
  }
 ],
 "metadata": {
  "kernelspec": {
   "display_name": "RecSys",
   "language": "python",
   "name": "python3"
  },
  "language_info": {
   "codemirror_mode": {
    "name": "ipython",
    "version": 3
   },
   "file_extension": ".py",
   "mimetype": "text/x-python",
   "name": "python",
   "nbconvert_exporter": "python",
   "pygments_lexer": "ipython3",
   "version": "3.12.9"
  }
 },
 "nbformat": 4,
 "nbformat_minor": 2
}
